{
 "cells": [
  {
   "cell_type": "code",
   "execution_count": 24,
   "id": "19b518a6-ef38-4e20-9a5a-a2c2f86c045d",
   "metadata": {},
   "outputs": [
    {
     "name": "stdout",
     "output_type": "stream",
     "text": [
      "타자 연습을 시작합니다. 1분 동안 가능한 한 많은 단어를 정확하게 입력하세요.\n",
      "화면에 나타나는 10개의 단어를 띄어쓰기로 구분하여 입력하고 엔터를 누르세요.\n",
      "\n",
      "남은 시간: 59초\n",
      "compute and memory slice break run system range gradient lexical\n"
     ]
    },
    {
     "name": "stdin",
     "output_type": "stream",
     "text": [
      " cimpute and memory slice break run system range gradient lexical\n"
     ]
    },
    {
     "name": "stdout",
     "output_type": "stream",
     "text": [
      "남은 시간: 48초\n",
      "case string rightmost algorithm type python pytorch model false rightmost\n"
     ]
    },
    {
     "name": "stdin",
     "output_type": "stream",
     "text": [
      " case string rightmost algorithm type python pytorch model false rightmost\n"
     ]
    },
    {
     "name": "stdout",
     "output_type": "stream",
     "text": [
      "남은 시간: 35초\n",
      "pytorch assemble semantic directory range plot encryption protected compute debug\n"
     ]
    },
    {
     "name": "stdin",
     "output_type": "stream",
     "text": [
      " pytorch assemble semantic directory range plot encryption protected computed debug\n"
     ]
    },
    {
     "name": "stdout",
     "output_type": "stream",
     "text": [
      "남은 시간: 15초\n",
      "rightmost size swift intelligence print leftmost dataframe line line output\n"
     ]
    },
    {
     "name": "stdin",
     "output_type": "stream",
     "text": [
      " rightmost size swift intelligence print leftmost dataframe line line output\n"
     ]
    },
    {
     "name": "stdout",
     "output_type": "stream",
     "text": [
      "남은 시간: 1초\n",
      "data framework search plot go frame sum process file process\n"
     ]
    },
    {
     "name": "stdin",
     "output_type": "stream",
     "text": [
      " data framework search plot go frame sum process file process\n"
     ]
    },
    {
     "name": "stdout",
     "output_type": "stream",
     "text": [
      "\n",
      "시간이 종료되었습니다!\n",
      "총 걸린 시간: 68.83초\n",
      "타자 속도: 256.27 타/분\n",
      "정확도: 96.00%\n"
     ]
    }
   ],
   "source": [
    "import time\n",
    "import random\n",
    "\n",
    "# 단어 리스트\n",
    "words_list = [\n",
    "    \"computer\", \"python\", \"jupyter\", \"notebook\", \"file\", \"directory\",\n",
    "    \"keyboard\", \"monitor\", \"mouse\", \"internet\", \"science\", \"mathematics\",\n",
    "    \"programming\", \"language\", \"artificial\", \"intelligence\", \"learning\",\n",
    "    \"machine\", \"data\", \"analysis\", \"variable\", \"function\", \"loop\",\n",
    "    \"condition\", \"algorithm\", \"print\", \"while\", \"else\", \"jump\",\n",
    "    \"define\", \"time\", \"list\", \"dictionary\", \"tuple\", \"integer\", \"string\",\n",
    "    \"float\", \"character\", \"epoch\", \"input\", \"output\", \"result\", \"sum\",\n",
    "    \"multiply\", \"division\", \"power\", \"modulo\", \"subtraction\", \"parenthesis\",\n",
    "    \"complexity\", \"space\", \"line\", \"number\", \"interface\", \"user\",\n",
    "    \"graphic\", \"visual\", \"studio\", \"assemble\", \"debug\", \"error\",\n",
    "    \"total\", \"end\", \"start\", \"first\", \"second\", \"last\", \"run\", \"runtime\",\n",
    "    \"syntax\", \"semantic\", \"lexical\", \"frame\", \"dataframe\", \"pandas\",\n",
    "    \"plot\", \"library\", \"stream\", \"legend\", \"struct\", \"class\", \"public\",\n",
    "    \"private\", \"constant\", \"protected\", \"static\", \"free\", \"allocation\",\n",
    "    \"memory\", \"byte\", \"bit\", \"size\", \"type\", \"framework\", \"pytorch\",\n",
    "    \"malloc\", \"java\", \"javascript\", \"html\", \"unix\", \"linux\", \"optimal\",\n",
    "    \"statistics\", \"variance\", \"standard\", \"mean\", \"median\", \"leftmost\",\n",
    "    \"rightmost\", \"correct\", \"point\", \"pointer\", \"null\", \"nan\", \"true\",\n",
    "    \"false\", \"boolean\", \"execute\", \"tree\", \"graph\", \"search\", \"sort\",\n",
    "    \"path\", \"minimum\", \"maximum\", \"local\", \"global\", \"gradient\", \"length\",\n",
    "    \"len\", \"slice\", \"word\", \"range\", \"for\", \"if\", \"elif\", \"continue\", \"break\",\n",
    "    \"case\", \"key\", \"value\", \"count\", \"temp\", \"double\", \"process\", \"short\", \"long\",\n",
    "    \"swift\", \"cotlin\", \"go\", \"and\", \"or\", \"not\", \"security\", \"encryption\", \"hardware\",\n",
    "    \"software\", \"engineering\", \"architecture\", \"model\", \"module\", \"system\",\n",
    "    \"operator\", \"operation\", \"compute\", \"calculate\", \"dimension\", \"vector\",\n",
    "    \"tensor\", \"flow\", \"hyper\", \"plane\"\n",
    "]\n",
    "\n",
    "# 초기 변수 설정\n",
    "start_time = time.time()\n",
    "time_limit = 60  # 1분\n",
    "end_time = start_time + time_limit\n",
    "correct_chars = 0\n",
    "total_chars = 0\n",
    "total_words = 0\n",
    "correct_words = 0\n",
    "\n",
    "print(\"타자 연습을 시작합니다. 1분 동안 가능한 한 많은 단어를 정확하게 입력하세요.\")\n",
    "print(\"화면에 나타나는 10개의 단어를 띄어쓰기로 구분하여 입력하고 엔터를 누르세요.\\n\")\n",
    "\n",
    "while True:\n",
    "    current_time = time.time()\n",
    "    remaining_time = int(end_time - current_time)\n",
    "\n",
    "    # 10개의 단어를 선택\n",
    "    current_words = [random.choice(words_list) for _ in range(10)]\n",
    "\n",
    "    print(f\"남은 시간: {remaining_time}초\")\n",
    "\n",
    "    # 단어 출력\n",
    "    print(' '.join(current_words))\n",
    "\n",
    "    # 사용자 입력 및 입력 시간 기록\n",
    "    user_input = input().strip()\n",
    "    input_time = time.time()\n",
    "\n",
    "    # 입력된 단어들을 리스트로 분할\n",
    "    user_words = user_input.split()\n",
    "\n",
    "    # 총 단어 수 및 글자 수 업데이트\n",
    "    total_words += len(current_words)\n",
    "    total_chars += sum(len(word) for word in current_words)\n",
    "\n",
    "    # 입력된 단어와 정답 비교\n",
    "    for i in range(min(len(current_words), len(user_words))):\n",
    "        if user_words[i] == current_words[i]:\n",
    "            correct_words += 1\n",
    "            correct_chars += len(current_words[i])\n",
    "\n",
    "    # 마지막에 시간 체크\n",
    "    if input_time >= end_time:\n",
    "        break\n",
    "\n",
    "# 총 걸린 시간 계산\n",
    "total_time = input_time - start_time\n",
    "\n",
    "# 결과 계산\n",
    "typing_speed = (correct_chars / total_time) * 60  # 분당 타자 수\n",
    "accuracy = (correct_words / total_words) * 100 if total_words > 0 else 0\n",
    "\n",
    "print(\"\\n시간이 종료되었습니다!\")\n",
    "print(f\"총 걸린 시간: {total_time:.2f}초\")\n",
    "print(f\"타자 속도: {typing_speed:.2f} 타/분\")\n",
    "print(f\"정확도: {accuracy:.2f}%\")"
   ]
  }
 ],
 "metadata": {
  "kernelspec": {
   "display_name": "Python 3 (ipykernel)",
   "language": "python",
   "name": "python3"
  },
  "language_info": {
   "codemirror_mode": {
    "name": "ipython",
    "version": 3
   },
   "file_extension": ".py",
   "mimetype": "text/x-python",
   "name": "python",
   "nbconvert_exporter": "python",
   "pygments_lexer": "ipython3",
   "version": "3.12.5"
  }
 },
 "nbformat": 4,
 "nbformat_minor": 5
}
