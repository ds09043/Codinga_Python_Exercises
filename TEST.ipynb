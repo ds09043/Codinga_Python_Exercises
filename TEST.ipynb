{
 "cells": [
  {
   "cell_type": "code",
   "execution_count": null,
   "id": "08e0e623",
   "metadata": {},
   "outputs": [],
   "source": [
    "\"\"\"\n",
    "Python Test\n",
    "\"\"\""
   ]
  },
  {
   "cell_type": "code",
   "execution_count": null,
   "id": "41230177",
   "metadata": {},
   "outputs": [],
   "source": [
    "\"\"\"\n",
    "<I/O 영역> 문제 1\n",
    "\"Hello, World!\" 출력하기\n",
    "\"\"\"\n",
    "# Write Your Code Here!\n"
   ]
  },
  {
   "cell_type": "code",
   "execution_count": null,
   "id": "a929d6d6",
   "metadata": {},
   "outputs": [],
   "source": [
    "\"\"\"\n",
    "<I/O 영역> 문제 2\n",
    "사용자에게 숫자를 입력받고, 그 수에 10을 더한 뒤 출력하기\n",
    "\"\"\"\n",
    "# Write Your Code Here!\n"
   ]
  },
  {
   "cell_type": "code",
   "execution_count": null,
   "id": "0b7f3cbe",
   "metadata": {},
   "outputs": [],
   "source": [
    "\"\"\"\n",
    "<I/O 영역> 문제 3\n",
    "사용자에게 문자열을 입력받고, 그 문자열의 끝에 줄넘김(개행문자) 추가한 뒤 출력하기\n",
    "\"\"\"\n",
    "# Write Your Code Here!\n"
   ]
  },
  {
   "cell_type": "code",
   "execution_count": null,
   "id": "4d20a219",
   "metadata": {},
   "outputs": [],
   "source": [
    "\"\"\"\n",
    "<Variable / Data Type 영역> 문제 1\n",
    "각각 int, float, string, list, tuple, dictionary 타입을 갖는 변수들을 선언하기\n",
    "\"\"\"\n",
    "# Write Your Code Here!\n"
   ]
  },
  {
   "cell_type": "code",
   "execution_count": 6,
   "id": "e8f0d9c1",
   "metadata": {},
   "outputs": [],
   "source": [
    "\"\"\"\n",
    "<Variable / Data Type 영역> 문제 2\n",
    "주어진 변수의 데이터 타입 맞추기\n",
    "(HINT : '변수'의 데이터 타입을 묻고 있습니다! 변수 자체의 데이터 타입을 찾으세요)\n",
    "\"\"\"\n",
    "var1 = 10.0\n",
    "var2 = 3.14 * 100\n",
    "var3 = 'hello' + ', ' + \"world!\"\n",
    "var4 = ([\"is this string?\", 10, 20, 30])\n",
    "var5 = {300 : [100, 200]}\n",
    "var6 = [{\"key1\":1, \"key2\":2}]\n",
    "# Write Your Answer Here!\n",
    "# var1: \n",
    "# var2: \n",
    "# var3: \n",
    "# var4: \n",
    "# var5: \n",
    "# var6: "
   ]
  },
  {
   "cell_type": "code",
   "execution_count": 9,
   "id": "0e56479d",
   "metadata": {},
   "outputs": [],
   "source": [
    "\"\"\"\n",
    "<String 영역> 문제 1\n",
    "문자열에서 특정 글자 하나만 출력하기\n",
    "\"\"\"\n",
    "# 주어진 문자열에서 콤마(comma)를 출력하세요!\n",
    "string = \"Hello, {Codinga}\"\n",
    "# Write Your Code Here!\n"
   ]
  },
  {
   "cell_type": "code",
   "execution_count": 9,
   "id": "8184668a",
   "metadata": {},
   "outputs": [],
   "source": [
    "\"\"\"\n",
    "<String 영역> 문제 2\n",
    "문자열의 일부분을 잘라서 출력하기\n",
    "\"\"\"\n",
    "# 주어진 문자열에서 {codinga} 부분을 출력하세요!\n",
    "string = \"Hello, {Codinga}\"\n",
    "# Write Your Code Here!\n"
   ]
  },
  {
   "cell_type": "code",
   "execution_count": 23,
   "id": "118b7ce3",
   "metadata": {},
   "outputs": [],
   "source": [
    "\"\"\"\n",
    "<String 영역> 문제 3\n",
    "두 개의 서로 다른 변수가 같은 하나의 문자열에 바인딩되게 하기 (이런걸 shallow copy 라고 합니다)\n",
    "\"\"\"\n",
    "# 변수를 하나 선언해서 string의 문자열을 바인딩하세요\n",
    "string = \"Hello, {Codinga}\"\n",
    "# Write Your Code Here!\n"
   ]
  },
  {
   "cell_type": "code",
   "execution_count": 24,
   "id": "b2131dda",
   "metadata": {},
   "outputs": [],
   "source": [
    "\"\"\"\n",
    "<String 영역> 문제 4\n",
    "문자열을 특정 문자 기준으로 분할한 뒤, 그 결과를 다른 변수에 바인딩하기\n",
    "\"\"\"\n",
    "# 주어진 문자열을 공백(띄어쓰기) 기준으로 분할하세요.\n",
    "string = \"Hello, {Codinga}\"\n",
    "# Write Your Code Here!\n"
   ]
  },
  {
   "cell_type": "code",
   "execution_count": 24,
   "id": "aebf7dc9",
   "metadata": {},
   "outputs": [],
   "source": [
    "\"\"\"\n",
    "<List 영역> 문제 1\n",
    "주어진 리스트에서 특정 아이템 하나만 출력하기\n",
    "\"\"\"\n",
    "# 주어진 리스트에서 Im 만 출력하세요\n",
    "list1 = [\"Hello\", \"Im\", \"Codinga\"]\n",
    "# Write Your Code Here!\n"
   ]
  },
  {
   "cell_type": "code",
   "execution_count": 24,
   "id": "09193643",
   "metadata": {},
   "outputs": [],
   "source": [
    "\"\"\"\n",
    "<List 영역> 문제 2\n",
    "주어진 리스트의 일부분을 잘라서 출력하기\n",
    "\"\"\"\n",
    "# 주어진 리스트에서 2부터 6까지만 출력하세요\n",
    "list1 = [0,1,2,3,4,5,6,7,8,9,10]\n",
    "# Write Your Code Here!\n"
   ]
  },
  {
   "cell_type": "code",
   "execution_count": 24,
   "id": "32ed1ef5",
   "metadata": {},
   "outputs": [],
   "source": [
    "\"\"\"\n",
    "<List 영역> 문제 3\n",
    "append, insert, del 기능을 적절히 이용해 주어진 리스트를 목표에 맞게 고치기\n",
    "\"\"\"\n",
    "# 주어진 list_init 을 list_dest 꼴이 되게 만드세요.\n",
    "list_init = [0,1,\"2\",3,4,5,\"6\",7,8,9]\n",
    "list_dest = [0,1,2,3,4,5,6,7,8,9,10]\n",
    "# Write Your Code Here!\n"
   ]
  },
  {
   "cell_type": "code",
   "execution_count": 24,
   "id": "4e8b4e5c",
   "metadata": {},
   "outputs": [],
   "source": [
    "\"\"\"\n",
    "<List 영역> 문제 4\n",
    "리스트와 튜플의 차이점을 코드로 보이기 (리스트에선 되지만 튜플에선 안되는 코드 짜기)\n",
    "\"\"\"\n",
    "# 주어진 리스트와 튜플의 차이점을 보이세요.\n",
    "list1 = [0,1,2,3]\n",
    "tuple1 = (0,1,2,3)\n",
    "# Write Your Code Here!\n"
   ]
  },
  {
   "cell_type": "code",
   "execution_count": 24,
   "id": "4e7f0804",
   "metadata": {},
   "outputs": [],
   "source": [
    "\"\"\"\n",
    "<Dictionary 영역> 문제 1\n",
    "samsung - 50000, LG - 170000, Apple - 299.99 각 종목과 현재가를 딕셔너리로 만들어 변수에 바인딩하기\n",
    "\"\"\"\n",
    "# Write Your Code Here!\n"
   ]
  },
  {
   "cell_type": "code",
   "execution_count": 6,
   "id": "7aa67bfa",
   "metadata": {},
   "outputs": [
    {
     "name": "stdout",
     "output_type": "stream",
     "text": [
      "1\n",
      "2\n",
      "3\n"
     ]
    }
   ],
   "source": [
    "\"\"\"\n",
    "<Dictionary 영역> 문제 2\n",
    "주어진 딕셔너리의 'key'들만 출력하기\n",
    "\"\"\"\n",
    "dictionary = {\"key1\":1, \"key2\":2, \"key3\":3}\n",
    "# Write Your Code Here!"
   ]
  },
  {
   "cell_type": "code",
   "execution_count": 8,
   "id": "2c7690ea",
   "metadata": {},
   "outputs": [
    {
     "name": "stdout",
     "output_type": "stream",
     "text": [
      "1\n",
      "2\n",
      "3\n"
     ]
    }
   ],
   "source": [
    "\"\"\"\n",
    "<Dictionary 영역> 문제 3\n",
    "주어진 딕셔너리의 'value'들만 출력하기\n",
    "\"\"\"\n",
    "dictionary = {\"key1\":1, \"key2\":2, \"key3\":3}\n",
    "# Write Your Code Here!"
   ]
  },
  {
   "cell_type": "code",
   "execution_count": 24,
   "id": "a8fbf04a",
   "metadata": {},
   "outputs": [],
   "source": [
    "\"\"\"\n",
    "<Condition 영역> 문제 1\n",
    "if를 사용해 사용자 입력이 100보다 크다면 \"b 100\", 작거나 같다면 \"le 100\" 출력하기\n",
    "\"\"\"\n",
    "# Write Your Code Here!\n"
   ]
  },
  {
   "cell_type": "code",
   "execution_count": 24,
   "id": "948522a7",
   "metadata": {},
   "outputs": [],
   "source": [
    "\"\"\"\n",
    "<Condition 영역> 문제 2\n",
    "사용자의 입력이 0이거나 -1이면 FAILURE 출력하기\n",
    "\"\"\"\n",
    "# Write Your Code Here!\n"
   ]
  },
  {
   "cell_type": "code",
   "execution_count": 24,
   "id": "987f2150",
   "metadata": {},
   "outputs": [],
   "source": [
    "\"\"\"\n",
    "<Condition 영역> 문제 3\n",
    "사용자의 입력이 1보다 크고 100보다 작으면 SUCCESS 출력하기\n",
    "\"\"\"\n",
    "# Write Your Code Here!\n"
   ]
  },
  {
   "cell_type": "code",
   "execution_count": 24,
   "id": "11f2e49f",
   "metadata": {},
   "outputs": [],
   "source": [
    "\"\"\"\n",
    "<Condition 영역> 문제 4\n",
    "사용자의 입력이 0이면 \"프로세스 종료\" 출력하고, 아니라면 \"프로세스 진행\" 출력하기\n",
    "\"\"\"\n",
    "# Write Your Code Here!\n"
   ]
  },
  {
   "cell_type": "code",
   "execution_count": 24,
   "id": "15906fe1",
   "metadata": {},
   "outputs": [],
   "source": [
    "\"\"\"\n",
    "<Loop 영역> 문제 1.1\n",
    "0부터 100까지 10단위로 for 문으로 출력하기 (0, 10, 20, ..., 100 이런식)\n",
    "\"\"\"\n",
    "# 리스트 이용하기\n",
    "# Write Your Code Here!\n"
   ]
  },
  {
   "cell_type": "code",
   "execution_count": 3,
   "id": "aa6ccd11",
   "metadata": {},
   "outputs": [
    {
     "data": {
      "text/plain": [
       "'\\n<Loop 영역> 문제 1.2\\n0부터 100까지 10단위로 for 문으로 출력하기 (0, 10, 20, ..., 100 이런식)\\n'"
      ]
     },
     "execution_count": 3,
     "metadata": {},
     "output_type": "execute_result"
    }
   ],
   "source": [
    "\"\"\"\n",
    "<Loop 영역> 문제 1.2\n",
    "0부터 100까지 10단위로 for 문으로 출력하기 (0, 10, 20, ..., 100 이런식)\n",
    "\"\"\"\n",
    "# range() 함수 이용하기\n",
    "# Write Your Code Here!\n"
   ]
  },
  {
   "cell_type": "code",
   "execution_count": 24,
   "id": "e3ca1a16",
   "metadata": {},
   "outputs": [],
   "source": [
    "\"\"\"\n",
    "<Loop 영역> 문제 2\n",
    "count 변수를 이용한 while 문으로 0부터 10까지 출력하기\n",
    "\"\"\"\n",
    "count = 0\n",
    "# Write Your Code Here!"
   ]
  },
  {
   "cell_type": "code",
   "execution_count": 10,
   "id": "f8bc9bab",
   "metadata": {},
   "outputs": [
    {
     "name": "stdout",
     "output_type": "stream",
     "text": [
      "10\n",
      "Process ID : [0]\n",
      "1\n",
      "Process ID : [1]\n",
      "1\n",
      "Process ID : [2]\n",
      "1\n",
      "Process ID : [3]\n",
      "1\n",
      "Process ID : [4]\n",
      "0\n"
     ]
    }
   ],
   "source": [
    "\"\"\"\n",
    "<Loop 영역> 문제 3\n",
    "입력 창이 반복해서 등장\n",
    "사용자가 0을 입력할 때까지 현재 반복횟수를 \n",
    "\"Process ID : []\" 출력하기 (대괄호 자리에 횟수)\n",
    "\"\"\"\n",
    "# Write Your Code Here!"
   ]
  },
  {
   "cell_type": "code",
   "execution_count": 24,
   "id": "1d55afd2",
   "metadata": {},
   "outputs": [],
   "source": [
    "\"\"\"\n",
    "<Loop 영역> 문제 4\n",
    "현재 반복횟수를 출력하는 while True 무한 루프를 만들고, \n",
    "현재 반복횟수가 5일 때 루프를 스킵, 10일 때 루프를 탈출한다.\n",
    "\"\"\"\n",
    "# Write Your Code Here!\n"
   ]
  },
  {
   "cell_type": "code",
   "execution_count": 24,
   "id": "ef196acc",
   "metadata": {},
   "outputs": [],
   "source": [
    "\"\"\"\n",
    "<Function 영역> 문제 1\n",
    "반지름을 입력받아 원의 넓이를 '출력'하는 함수를 선언하고, 호출하기 (pi는 3.14 사용)\n",
    "\"\"\"\n",
    "pi = 3.14\n",
    "# Write Your Code Here!\n"
   ]
  },
  {
   "cell_type": "code",
   "execution_count": 24,
   "id": "bcc36651",
   "metadata": {},
   "outputs": [],
   "source": [
    "\"\"\"\n",
    "<Function 영역> 문제 2\n",
    "밑변과 높이를 입력받아 삼각형의 넓이를 '반환'하는 함수를 사용해 그 값을 출력하기\n",
    "\"\"\"\n",
    "# Write Your Code Here!\n"
   ]
  },
  {
   "cell_type": "code",
   "execution_count": 24,
   "id": "5c6c7a5d",
   "metadata": {},
   "outputs": [],
   "source": [
    "\"\"\"\n",
    "<Class 영역>\n",
    "Student 클래스를 생성한다\n",
    "(1) 클래스에는 다음과 같은 메소드가 포함되어 있다.\n",
    "- 클래스 변수의 초기값을 설정하는 생성자 메소드\n",
    "- 클래스 변수 값을 설정하는 set_info 메소드\n",
    "- 변수들을 출력하는 print_info 메소드\n",
    "(2) 클래스는 다음과 같은 정보를 저장하는 클래스 변수를 사용한다\n",
    "- 이름, 나이, 국적, 사용하는 프로그래밍 언어\n",
    "\"\"\"\n",
    "# Write Your Code Here!\n"
   ]
  },
  {
   "cell_type": "code",
   "execution_count": 24,
   "id": "83ba4edb",
   "metadata": {},
   "outputs": [],
   "source": [
    "\"\"\"\n",
    "<File I/O 영역> 문제 1\n",
    "\"number.txt\" 파일을 가져오는 쓰기 모드의 변수 생성\n",
    "\n",
    "쓰기 : \n",
    "- 1부터 10까지의 숫자를 각 라인 단위로 파일에 출력하는 프로그램을 작성\n",
    "\"\"\"\n",
    "# Write Your Code Here!\n"
   ]
  },
  {
   "cell_type": "code",
   "execution_count": 24,
   "id": "ed760505",
   "metadata": {},
   "outputs": [],
   "source": [
    "\"\"\"\n",
    "<File I/O 영역> 문제 2.1\n",
    "\"TEST.txt\" 파일(시험문제 적혀 있는 파일)을 가져오는 읽기 모드의 변수 생성\n",
    "\n",
    "읽기 :\n",
    "- read() 함수를 사용해 파일의 전체 글자 수를 알아내기\n",
    "\"\"\"\n",
    "# Write Your Code Here!\n"
   ]
  },
  {
   "cell_type": "code",
   "execution_count": 24,
   "id": "170b0e7b",
   "metadata": {},
   "outputs": [],
   "source": [
    "\"\"\"\n",
    "<File I/O 영역> 문제 2.2\n",
    "\"TEST.txt\" 파일(시험문제 적혀 있는 파일)을 가져오는 읽기 모드의 변수 생성 (위에서 만들었으면 그거 쓰면 됨)\n",
    "\n",
    "읽기 :\n",
    "- readlines() 함수를 활용하여 파일의 전체 줄 수를 알아내기\n",
    "\"\"\"\n",
    "# Write Your Code Here!\n"
   ]
  },
  {
   "cell_type": "code",
   "execution_count": 24,
   "id": "91c562a1",
   "metadata": {},
   "outputs": [],
   "source": [
    "\"\"\"\n",
    "<File I/O 영역> 문제 2.3\n",
    "\"TEST.txt\" 파일(시험문제 적혀 있는 파일)을 가져오는 읽기 모드의 변수 생성 (위에서 만들었으면 그거 쓰면 됨)\n",
    "\n",
    "읽기 :\n",
    "- readline() 함수를 사용해 가장 긴(글자 수가 가장 많은) 줄이 몇 번째 줄인지, 몇 글자인지 알아내기\n",
    "\"\"\"\n",
    "# Write Your Code Here!\n"
   ]
  },
  {
   "cell_type": "code",
   "execution_count": 24,
   "id": "62a7c40c",
   "metadata": {},
   "outputs": [],
   "source": [
    "\"\"\"\n",
    "<File I/O 영역> 문제 3\n",
    "열었던 파일 변수를 모두 닫기\n",
    "\"\"\"\n",
    "# Write Your Code Here!\n"
   ]
  }
 ],
 "metadata": {
  "kernelspec": {
   "display_name": "Python 3 (ipykernel)",
   "language": "python",
   "name": "python3"
  },
  "language_info": {
   "codemirror_mode": {
    "name": "ipython",
    "version": 3
   },
   "file_extension": ".py",
   "mimetype": "text/x-python",
   "name": "python",
   "nbconvert_exporter": "python",
   "pygments_lexer": "ipython3",
   "version": "3.9.7"
  }
 },
 "nbformat": 4,
 "nbformat_minor": 5
}
